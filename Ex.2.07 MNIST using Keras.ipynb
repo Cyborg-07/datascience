{
 "cells": [
  {
   "cell_type": "code",
   "execution_count": 1,
   "metadata": {},
   "outputs": [],
   "source": [
    "import tensorflow as tf\n",
    "import pandas as pd\n",
    "import matplotlib.pyplot as plt\n",
    "%matplotlib inline\n",
    "# Import Keras libraries\n",
    "from tensorflow.keras.models import Sequential\n",
    "from tensorflow.keras.layers import Dense\n",
    "from tensorflow.keras.layers import Flatten\n",
    "\n"
   ]
  },
  {
   "cell_type": "code",
   "execution_count": 3,
   "metadata": {},
   "outputs": [],
   "source": [
    "#load MNIST data\n",
    "\"\"\"\n",
    "train_features has the training images in the form of 28 x 28 pixel values.\n",
    "\n",
    "train_labels has the training labels. Similarly, test_features has the test images in the form of 28 x 28 pixel values. test_labels has the test labels.\n",
    "\n",
    "\"\"\"\n",
    "mnist = tf.keras.datasets.mnist\n",
    "(train_features, train_labels),(test_features, test_labels) = mnist.load_data()"
   ]
  },
  {
   "cell_type": "code",
   "execution_count": 4,
   "metadata": {},
   "outputs": [],
   "source": [
    "#data normalization. Яркость пикселей переводим в диапазон 0..1\n",
    "train_features, test_features = train_features/255.0, test_features/255.0"
   ]
  },
  {
   "cell_type": "code",
   "execution_count": 5,
   "metadata": {},
   "outputs": [],
   "source": [
    "#build the sequential model:\n",
    "model = Sequential()\n",
    "model.add(Flatten(input_shape=(28,28))) # 1 слой-входной. Flatten переводит матрицу 28х28 в вектор 784\n",
    "model.add(Dense(units=50, activation='relu')) # 2 hidden\n",
    "model.add(Dense(units=20, activation='relu')) # 3 hidden\n",
    "model.add(Dense(units=10, activation='softmax')) # 4 output layer"
   ]
  },
  {
   "cell_type": "code",
   "execution_count": 9,
   "metadata": {},
   "outputs": [],
   "source": [
    "model.compile(optimizer='adam', loss='sparse_categorical_crossentropy', metrics=['accuracy'])"
   ]
  },
  {
   "cell_type": "code",
   "execution_count": 10,
   "metadata": {},
   "outputs": [
    {
     "name": "stdout",
     "output_type": "stream",
     "text": [
      "Model: \"sequential\"\n",
      "_________________________________________________________________\n",
      "Layer (type)                 Output Shape              Param #   \n",
      "=================================================================\n",
      "flatten (Flatten)            (None, 784)               0         \n",
      "_________________________________________________________________\n",
      "dense (Dense)                (None, 50)                39250     \n",
      "_________________________________________________________________\n",
      "dense_1 (Dense)              (None, 20)                1020      \n",
      "_________________________________________________________________\n",
      "dense_2 (Dense)              (None, 10)                210       \n",
      "=================================================================\n",
      "Total params: 40,480\n",
      "Trainable params: 40,480\n",
      "Non-trainable params: 0\n",
      "_________________________________________________________________\n"
     ]
    }
   ],
   "source": [
    "model.summary()"
   ]
  },
  {
   "cell_type": "code",
   "execution_count": 11,
   "metadata": {},
   "outputs": [
    {
     "name": "stdout",
     "output_type": "stream",
     "text": [
      "Epoch 1/50\n",
      "1875/1875 [==============================] - 2s 802us/step - loss: 0.5553 - accuracy: 0.8416\n",
      "Epoch 2/50\n",
      "1875/1875 [==============================] - 1s 797us/step - loss: 0.1620 - accuracy: 0.9515\n",
      "Epoch 3/50\n",
      "1875/1875 [==============================] - 2s 868us/step - loss: 0.1129 - accuracy: 0.9658\n",
      "Epoch 4/50\n",
      "1875/1875 [==============================] - 2s 842us/step - loss: 0.0887 - accuracy: 0.9730\n",
      "Epoch 5/50\n",
      "1875/1875 [==============================] - 2s 852us/step - loss: 0.0704 - accuracy: 0.9787\n",
      "Epoch 6/50\n",
      "1875/1875 [==============================] - 2s 823us/step - loss: 0.0638 - accuracy: 0.9801\n",
      "Epoch 7/50\n",
      "1875/1875 [==============================] - 2s 839us/step - loss: 0.0515 - accuracy: 0.9842\n",
      "Epoch 8/50\n",
      "1875/1875 [==============================] - 2s 818us/step - loss: 0.0471 - accuracy: 0.9848\n",
      "Epoch 9/50\n",
      "1875/1875 [==============================] - 1s 794us/step - loss: 0.0395 - accuracy: 0.9876\n",
      "Epoch 10/50\n",
      "1875/1875 [==============================] - 2s 829us/step - loss: 0.0328 - accuracy: 0.9901\n",
      "Epoch 11/50\n",
      "1875/1875 [==============================] - 2s 826us/step - loss: 0.0336 - accuracy: 0.9890\n",
      "Epoch 12/50\n",
      "1875/1875 [==============================] - 2s 804us/step - loss: 0.0299 - accuracy: 0.9896\n",
      "Epoch 13/50\n",
      "1875/1875 [==============================] - 2s 850us/step - loss: 0.0254 - accuracy: 0.9918\n",
      "Epoch 14/50\n",
      "1875/1875 [==============================] - 2s 827us/step - loss: 0.0244 - accuracy: 0.9916\n",
      "Epoch 15/50\n",
      "1875/1875 [==============================] - 2s 807us/step - loss: 0.0247 - accuracy: 0.9923\n",
      "Epoch 16/50\n",
      "1875/1875 [==============================] - 2s 812us/step - loss: 0.0237 - accuracy: 0.9913\n",
      "Epoch 17/50\n",
      "1875/1875 [==============================] - 2s 871us/step - loss: 0.0207 - accuracy: 0.9930\n",
      "Epoch 18/50\n",
      "1875/1875 [==============================] - 2s 824us/step - loss: 0.0173 - accuracy: 0.9945\n",
      "Epoch 19/50\n",
      "1875/1875 [==============================] - 2s 855us/step - loss: 0.0147 - accuracy: 0.9955\n",
      "Epoch 20/50\n",
      "1875/1875 [==============================] - 2s 867us/step - loss: 0.0166 - accuracy: 0.9940\n",
      "Epoch 21/50\n",
      "1875/1875 [==============================] - 2s 815us/step - loss: 0.0124 - accuracy: 0.9957\n",
      "Epoch 22/50\n",
      "1875/1875 [==============================] - 2s 806us/step - loss: 0.0132 - accuracy: 0.9954\n",
      "Epoch 23/50\n",
      "1875/1875 [==============================] - 2s 884us/step - loss: 0.0118 - accuracy: 0.9964\n",
      "Epoch 24/50\n",
      "1875/1875 [==============================] - 2s 848us/step - loss: 0.0120 - accuracy: 0.9961\n",
      "Epoch 25/50\n",
      "1875/1875 [==============================] - 2s 843us/step - loss: 0.0123 - accuracy: 0.9962\n",
      "Epoch 26/50\n",
      "1875/1875 [==============================] - 2s 894us/step - loss: 0.0123 - accuracy: 0.9959\n",
      "Epoch 27/50\n",
      "1875/1875 [==============================] - 2s 822us/step - loss: 0.0080 - accuracy: 0.9975\n",
      "Epoch 28/50\n",
      "1875/1875 [==============================] - 2s 819us/step - loss: 0.0105 - accuracy: 0.9963\n",
      "Epoch 29/50\n",
      "1875/1875 [==============================] - 2s 821us/step - loss: 0.0073 - accuracy: 0.9976\n",
      "Epoch 30/50\n",
      "1875/1875 [==============================] - 2s 850us/step - loss: 0.0124 - accuracy: 0.9958\n",
      "Epoch 31/50\n",
      "1875/1875 [==============================] - 2s 863us/step - loss: 0.0083 - accuracy: 0.9971\n",
      "Epoch 32/50\n",
      "1875/1875 [==============================] - 2s 887us/step - loss: 0.0069 - accuracy: 0.9978\n",
      "Epoch 33/50\n",
      "1875/1875 [==============================] - 2s 892us/step - loss: 0.0085 - accuracy: 0.9970\n",
      "Epoch 34/50\n",
      "1875/1875 [==============================] - 2s 954us/step - loss: 0.0076 - accuracy: 0.9977\n",
      "Epoch 35/50\n",
      "1875/1875 [==============================] - 2s 867us/step - loss: 0.0082 - accuracy: 0.9973\n",
      "Epoch 36/50\n",
      "1875/1875 [==============================] - 1s 784us/step - loss: 0.0071 - accuracy: 0.9974\n",
      "Epoch 37/50\n",
      "1875/1875 [==============================] - 2s 893us/step - loss: 0.0086 - accuracy: 0.9974\n",
      "Epoch 38/50\n",
      "1875/1875 [==============================] - 2s 949us/step - loss: 0.0085 - accuracy: 0.9970\n",
      "Epoch 39/50\n",
      "1875/1875 [==============================] - 2s 887us/step - loss: 0.0053 - accuracy: 0.9983\n",
      "Epoch 40/50\n",
      "1875/1875 [==============================] - 2s 874us/step - loss: 0.0085 - accuracy: 0.9968\n",
      "Epoch 41/50\n",
      "1875/1875 [==============================] - 2s 872us/step - loss: 0.0078 - accuracy: 0.9976\n",
      "Epoch 42/50\n",
      "1875/1875 [==============================] - 2s 862us/step - loss: 0.0099 - accuracy: 0.9965\n",
      "Epoch 43/50\n",
      "1875/1875 [==============================] - 2s 825us/step - loss: 0.0053 - accuracy: 0.9980\n",
      "Epoch 44/50\n",
      "1875/1875 [==============================] - 2s 839us/step - loss: 0.0070 - accuracy: 0.9976\n",
      "Epoch 45/50\n",
      "1875/1875 [==============================] - 2s 874us/step - loss: 0.0075 - accuracy: 0.9976\n",
      "Epoch 46/50\n",
      "1875/1875 [==============================] - 2s 898us/step - loss: 0.0067 - accuracy: 0.9978\n",
      "Epoch 47/50\n",
      "1875/1875 [==============================] - 2s 875us/step - loss: 0.0063 - accuracy: 0.9979\n",
      "Epoch 48/50\n",
      "1875/1875 [==============================] - 2s 851us/step - loss: 0.0069 - accuracy: 0.9979\n",
      "Epoch 49/50\n",
      "1875/1875 [==============================] - 2s 916us/step - loss: 0.0089 - accuracy: 0.9968\n",
      "Epoch 50/50\n",
      "1875/1875 [==============================] - 2s 950us/step - loss: 0.0093 - accuracy: 0.9968\n"
     ]
    },
    {
     "data": {
      "text/plain": [
       "<tensorflow.python.keras.callbacks.History at 0x7fe17dd2d850>"
      ]
     },
     "execution_count": 11,
     "metadata": {},
     "output_type": "execute_result"
    }
   ],
   "source": [
    "# train the model\n",
    "model.fit(train_features, train_labels, epochs=50)"
   ]
  },
  {
   "cell_type": "code",
   "execution_count": 12,
   "metadata": {},
   "outputs": [],
   "source": [
    "#load a random image from a test dataset. Lets locate the 200th image\n",
    "loc = 200\n",
    "test_image = test_features[loc]"
   ]
  },
  {
   "cell_type": "code",
   "execution_count": 13,
   "metadata": {},
   "outputs": [
    {
     "data": {
      "text/plain": [
       "(28, 28)"
      ]
     },
     "execution_count": 13,
     "metadata": {},
     "output_type": "execute_result"
    }
   ],
   "source": [
    "test_image.shape\n",
    "\"\"\"\n",
    "the model expects 3-dimensional input. We need to reshape the image accordingly\n",
    "\"\"\""
   ]
  },
  {
   "cell_type": "code",
   "execution_count": 14,
   "metadata": {},
   "outputs": [],
   "source": [
    "#reshaping into 3D\n",
    "test_image = test_image.reshape(1,28,28)"
   ]
  },
  {
   "cell_type": "code",
   "execution_count": 15,
   "metadata": {},
   "outputs": [
    {
     "name": "stdout",
     "output_type": "stream",
     "text": [
      "[[2.1543452e-33 1.5455098e-23 2.0353414e-06 9.9999797e-01 0.0000000e+00\n",
      "  6.2947670e-17 1.5543253e-38 4.6013976e-25 2.2202165e-09 7.5868895e-24]]\n"
     ]
    }
   ],
   "source": [
    "result = model.predict(test_image)\n",
    "print(result) # вероятность, что на тестовой картинке именно эта цифры (одна из 10 в векторе)"
   ]
  },
  {
   "cell_type": "code",
   "execution_count": null,
   "metadata": {},
   "outputs": [],
   "source": [
    "argmax(result)"
   ]
  }
 ],
 "metadata": {
  "kernelspec": {
   "display_name": "Python 3",
   "language": "python",
   "name": "python3"
  },
  "language_info": {
   "codemirror_mode": {
    "name": "ipython",
    "version": 3
   },
   "file_extension": ".py",
   "mimetype": "text/x-python",
   "name": "python",
   "nbconvert_exporter": "python",
   "pygments_lexer": "ipython3",
   "version": "3.8.5"
  }
 },
 "nbformat": 4,
 "nbformat_minor": 4
}
